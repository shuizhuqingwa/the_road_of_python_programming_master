{
 "cells": [
  {
   "cell_type": "markdown",
   "metadata": {},
   "source": [
    "PS：这一章代码必须要在类的创建过程，调用过程和单例模式的分支语句添加注释，其他注释也可自由添加  \n",
    "\n",
    "\n",
    "\n",
    "### 1.详细说一下自定类的创建过程和调用过程  \n",
    "\n",
    "- 答：自定类有两种实现方式，一种是通过class 关键字+类名 定义，另一种是通过元类type实例化，通过type(class_name,class_bases,class_dic)命令实例化产生类，其中class_name：类名，class_bases：类的基类或父类,class_dic：类的局部名称空间。class+类名的定义方式等同于type(class_name,class_bases,class_dic)。  \n",
    "\n",
    "      调用过程，当调用类对象时，元类首先调起__new__方法，实现类的创建,接着调起__init__方法，此方法接收自定义类的四个参数分别是self,class_name,class_bases,class_dic完成初始化动作，接着调起元类的__call__方法，在__call__方法中，返回类对象. 接下来才是类的实例化\n",
    "\n"
   ]
  },
  {
   "cell_type": "markdown",
   "metadata": {},
   "source": [
    "### 2.除了文中讲到的方法之外，另外用至少4种方式实现单例模式（有能力还可以使用更多种）  \n"
   ]
  },
  {
   "cell_type": "code",
   "execution_count": 27,
   "metadata": {},
   "outputs": [
    {
     "name": "stdout",
     "output_type": "stream",
     "text": [
      "True\n"
     ]
    }
   ],
   "source": [
    "#1 使用元类实现单例模式\n",
    "class Singleton(type):\n",
    "    __instance = None\n",
    "\n",
    "    def __call__(self,*args,**kwargs):\n",
    "        \n",
    "        if not Singleton.__instance: #若元类变量 __instance没有赋值，则将self = MySql类传给object()类__new__方法 实例化\n",
    "            obj =  object().__new__(self) \n",
    "            obj.__init__(*args,**kwargs)#调用MySql.__init__初始化类属性\n",
    "            Singleton.__instance = obj    \n",
    "        return Singleton.__instance #返回实例化后的MySql()\n",
    "        \n",
    "        \n",
    "class MySingleton(object,metaclass=MySqlType):\n",
    "    def __init__(self,ip,port):\n",
    "        self.ip = ip\n",
    "        self.port = port\n",
    "        \n",
    "ip = \"22.10.10.80\"\n",
    "port = \"8888\"\n",
    "\n",
    "    \n",
    "obj1=MySingleton(ip,port)\n",
    "obj2=MySingleton(ip,port)\n",
    "obj3=MySingleton(ip,port)\n",
    "\n",
    "print(obj1 is obj2 is obj3)"
   ]
  },
  {
   "cell_type": "code",
   "execution_count": 28,
   "metadata": {},
   "outputs": [
    {
     "name": "stdout",
     "output_type": "stream",
     "text": [
      "True\n"
     ]
    }
   ],
   "source": [
    "#2 重写__new__方法\n",
    "class Singleton():\n",
    "    __instance = None #类实例变量\n",
    "    def __new__(cls,ip,port):\n",
    "        if not cls.__instance: #若 cls.__instance变量没有赋值，则调用父类__new__方法实例化\n",
    "            cls.__instance =  super().__new__(cls) #调用\n",
    "        return cls.__instance #返回实例后的类\n",
    "            \n",
    "    def __init__(self,ip,port):\n",
    "        self.ip = ip\n",
    "        self.port = port\n",
    "        \n",
    "ip = \"22.10.10.80\"\n",
    "port = \"8888\"\n",
    "    \n",
    "obj1=Singleton(ip,port)\n",
    "obj2=Singleton(ip,port)\n",
    "obj3=Singleton(ip,port)\n",
    "\n",
    "print(obj1 is obj2 is obj3)"
   ]
  },
  {
   "cell_type": "code",
   "execution_count": 45,
   "metadata": {},
   "outputs": [
    {
     "name": "stdout",
     "output_type": "stream",
     "text": [
      "cls: <class '__main__.MySingleton'>\n",
      "cls: <class '__main__.MySingleton'>\n",
      "cls: <class '__main__.MySingleton'>\n",
      "True\n"
     ]
    }
   ],
   "source": [
    "#3 继续父类new方法，父类重写__new__方法\n",
    "class Singleton:\n",
    "    __instance = None #类实例变量\n",
    "    def __new__(cls,ip,port):\n",
    "        print('cls:',cls)\n",
    "        if not cls.__instance: #若 cls.__instance变量没有赋值，则调用父类__new__方法实例化\n",
    "            cls.__instance =  super().__new__(cls) #调用\n",
    "        return cls.__instance #返回实例后的类    \n",
    "    \n",
    "class MySingleton(Singleton):  \n",
    "    def __init__(self,ip,port):\n",
    "        self.ip = ip\n",
    "        self.port = port\n",
    "        \n",
    "ip = \"22.10.10.80\"\n",
    "port = \"8888\"\n",
    "    \n",
    "obj1=MySingleton(ip,port)\n",
    "obj2=MySingleton(ip,port)\n",
    "obj3=MySingleton(ip,port)\n",
    "\n",
    "print(obj1 is obj2 is obj3)"
   ]
  },
  {
   "cell_type": "code",
   "execution_count": 43,
   "metadata": {},
   "outputs": [
    {
     "name": "stdout",
     "output_type": "stream",
     "text": [
      "True\n"
     ]
    }
   ],
   "source": [
    "#4 装饰器实现\n",
    "\n",
    "def create_singleton(cls):\n",
    "    __instance = {}\n",
    "    def wrapper(*args,**kwargs):\n",
    "        if not __instance: #\n",
    "            __instance[cls] =  cls(*args,**kwargs) #调用\n",
    "        return __instance[cls] #返回实例后的类  \n",
    "    return wrapper\n",
    "\n",
    "@create_singleton   \n",
    "class MySql():  \n",
    "    def __init__(self,ip,port):\n",
    "        self.ip = ip\n",
    "        self.port = port\n",
    "        \n",
    "ip = \"22.10.10.80\"\n",
    "port = \"8888\"\n",
    "    \n",
    "obj1=MySql(ip,port)\n",
    "obj2=MySql(ip,port)\n",
    "obj3=MySql(ip,port)\n",
    "\n",
    "print(obj1 is obj2 is obj3)"
   ]
  },
  {
   "cell_type": "markdown",
   "metadata": {},
   "source": [
    "### 3.程序设计，自定义轿车元类CarMeta，实现元类为CarMeta的类至少有生产日期(production_date)、发动机编号(engine_number)及载客量(capacity)三个基本属性，没有就不行"
   ]
  },
  {
   "cell_type": "code",
   "execution_count": 69,
   "metadata": {},
   "outputs": [
    {
     "ename": "AttributeError",
     "evalue": "缺少engine_number 属性",
     "output_type": "error",
     "traceback": [
      "\u001b[1;31m---------------------------------------------------------------------------\u001b[0m",
      "\u001b[1;31mAttributeError\u001b[0m                            Traceback (most recent call last)",
      "\u001b[1;32m<ipython-input-69-eea498f5e577>\u001b[0m in \u001b[0;36m<module>\u001b[1;34m()\u001b[0m\n\u001b[0;32m     24\u001b[0m \u001b[1;31m# car = Car('20190829','4','6')\u001b[0m\u001b[1;33m\u001b[0m\u001b[1;33m\u001b[0m\u001b[0m\n\u001b[0;32m     25\u001b[0m \u001b[1;31m# car = Car('20190829','4')\u001b[0m\u001b[1;33m\u001b[0m\u001b[1;33m\u001b[0m\u001b[0m\n\u001b[1;32m---> 26\u001b[1;33m \u001b[0mcar\u001b[0m \u001b[1;33m=\u001b[0m \u001b[0mCar\u001b[0m\u001b[1;33m(\u001b[0m\u001b[1;34m'20190829'\u001b[0m\u001b[1;33m)\u001b[0m\u001b[1;33m\u001b[0m\u001b[0m\n\u001b[0m",
      "\u001b[1;32m<ipython-input-69-eea498f5e577>\u001b[0m in \u001b[0;36m__call__\u001b[1;34m(self, *args, **kwargs)\u001b[0m\n\u001b[0;32m      7\u001b[0m             \u001b[1;32mraise\u001b[0m \u001b[0mAttributeError\u001b[0m\u001b[1;33m(\u001b[0m\u001b[1;34m'缺少production_date 属性'\u001b[0m\u001b[1;33m)\u001b[0m\u001b[1;33m\u001b[0m\u001b[0m\n\u001b[0;32m      8\u001b[0m         \u001b[1;32mif\u001b[0m \u001b[1;32mnot\u001b[0m \u001b[0mobj\u001b[0m\u001b[1;33m.\u001b[0m\u001b[0m__dict__\u001b[0m\u001b[1;33m.\u001b[0m\u001b[0mget\u001b[0m\u001b[1;33m(\u001b[0m\u001b[1;34m'engine_number'\u001b[0m\u001b[1;33m)\u001b[0m\u001b[1;33m:\u001b[0m\u001b[1;33m\u001b[0m\u001b[0m\n\u001b[1;32m----> 9\u001b[1;33m             \u001b[1;32mraise\u001b[0m \u001b[0mAttributeError\u001b[0m\u001b[1;33m(\u001b[0m\u001b[1;34m'缺少engine_number 属性'\u001b[0m\u001b[1;33m)\u001b[0m\u001b[1;33m\u001b[0m\u001b[0m\n\u001b[0m\u001b[0;32m     10\u001b[0m         \u001b[1;32mif\u001b[0m \u001b[1;32mnot\u001b[0m \u001b[0mobj\u001b[0m\u001b[1;33m.\u001b[0m\u001b[0m__dict__\u001b[0m\u001b[1;33m.\u001b[0m\u001b[0mget\u001b[0m\u001b[1;33m(\u001b[0m\u001b[1;34m'capacity'\u001b[0m\u001b[1;33m)\u001b[0m\u001b[1;33m:\u001b[0m\u001b[1;33m\u001b[0m\u001b[0m\n\u001b[0;32m     11\u001b[0m             \u001b[1;32mraise\u001b[0m \u001b[0mAttributeError\u001b[0m\u001b[1;33m(\u001b[0m\u001b[1;34m'缺少capacity 属性'\u001b[0m\u001b[1;33m)\u001b[0m\u001b[1;33m\u001b[0m\u001b[0m\n",
      "\u001b[1;31mAttributeError\u001b[0m: 缺少engine_number 属性"
     ]
    }
   ],
   "source": [
    "class CarMeta(type):\n",
    "    \"\"\"\n",
    "    自定义元类CarMeta\n",
    "    检查类属性中是否存在 生产日期(production_date)、发动机编号(engine_number)及载客量(capacity)三个基本属性\n",
    "    若没有，则抛出异常\n",
    "    \"\"\"\n",
    "    def __call__(self,*args,**kwargs):\n",
    "        obj = object().__new__(self) #调用obejct()类实例化Car类\n",
    "        obj.__init__(*args,**kwargs) #对Car实例化对象obj初始化，为下一步检查obj实例属性做准备\n",
    "        instance = obj\n",
    "        if not obj.__dict__.get('production_date'):\n",
    "            raise AttributeError('缺少production_date 属性') #抛出缺少production_date 属性异常\n",
    "        if not obj.__dict__.get('engine_number'):\n",
    "            raise AttributeError('缺少engine_number 属性') #抛出缺少engine_number 属性异常\n",
    "        if not obj.__dict__.get('capacity'):\n",
    "            raise AttributeError('缺少capacity 属性') #抛出缺少capacity 属性异常     \n",
    "        return instance\n",
    "    \n",
    "    \n",
    "class Car(object,metaclass=CarMeta):\n",
    "#     def __init__(self,production_date,engine_number,capacity):\n",
    "#     def __init__(self,production_date,engine_number):  \n",
    "    def __init__(self,production_date): \n",
    "        self.production_date = production_date\n",
    "#         self.engine_number = engine_number\n",
    "#         self.capacity = capacity\n",
    "        \n",
    "        \n",
    "# car = Car('20190829','4','6')    \n",
    "# car = Car('20190829','4') \n",
    "car = Car('20190829') "
   ]
  },
  {
   "cell_type": "code",
   "execution_count": null,
   "metadata": {},
   "outputs": [],
   "source": []
  }
 ],
 "metadata": {
  "kernelspec": {
   "display_name": "Python 3",
   "language": "python",
   "name": "python3"
  },
  "language_info": {
   "codemirror_mode": {
    "name": "ipython",
    "version": 3
   },
   "file_extension": ".py",
   "mimetype": "text/x-python",
   "name": "python",
   "nbconvert_exporter": "python",
   "pygments_lexer": "ipython3",
   "version": "3.6.5"
  }
 },
 "nbformat": 4,
 "nbformat_minor": 2
}
