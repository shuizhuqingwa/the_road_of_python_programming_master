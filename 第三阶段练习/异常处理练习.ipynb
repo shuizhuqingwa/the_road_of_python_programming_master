{
 "cells": [
  {
   "cell_type": "markdown",
   "metadata": {},
   "source": [
    "##### 1.    详细说一下异常常见的种类"
   ]
  },
  {
   "cell_type": "markdown",
   "metadata": {},
   "source": [
    "答：常见的异常种类有以下：  \n",
    "1、 语法异常 SyntaxError  \n",
    "2、 索引异常 IndexError  \n",
    "3、 键值对异常 KeyError  \n",
    "4、 属性异常 AttributeError  \n",
    "5、 除0异常  ZeroDivisionError  \n",
    "6、 文件找不到异常 FileNotFoundError  \n",
    "7、 类型错误 TypeError  \n",
    "8、 变量名未定义异常 NameError  \n",
    "9、 输入输出异常 IOError  "
   ]
  },
  {
   "cell_type": "markdown",
   "metadata": {},
   "source": [
    "##### 2.    程序设计\n",
    "\n",
    "自定义一个Integer类\n",
    "\n",
    "     -- 该类有个input方法，调用该方法一定会得到一个合法的数字(非数字为不合法，越界为不合法)\n",
    "\n",
    "            ---- 如果是非数字不合法，需要打印不合法消息，然后用户需要重新输入\n",
    "\n",
    "             -- 如输入'abc'，不合法消息就为：invalid literal for int() with base 10: 'abc'\n",
    "\n",
    "            ---- 如果是越界不合法，需要打印不合法消息，然后用户需要重新输入\n",
    "\n",
    "             -- 如输入'2147483648'，不合法消息就为：ErrorMsg：2147483648 - 越界\n",
    "\n",
    "            提示：\n",
    "\n",
    "            1)该方法需要捕获并处理两次异常(内置异常ValueError，自定义异常SlopOverError)\n",
    "\n",
    "            2)该方法运用到递归方式处理更简单，如果用不到递归也可以\n",
    "\n",
    "                  -- 该类有个verifySlopOver方法，可以判断传入的数字是否越界(非-2147483648 ~ 2147483647为越界)             \n",
    "                  ---- 如果数字越界，会主动抛出自定义SlopOverError异常，并传入数字和异常消息  \n",
    "自定义异常SlopOverError类\n",
    "\n",
    "     -- 该类需要重写__init__方法\n",
    "\n",
    "            ---- 有number、massage两个参数，number是数字类型的数，massage是字符串类型的异常消息\n",
    "\n",
    "     -- 该类需要重写__str__方法\n",
    "\n",
    "            ---- 通过number、massage两个属性格式化异常信息"
   ]
  },
  {
   "cell_type": "code",
   "execution_count": 22,
   "metadata": {},
   "outputs": [],
   "source": [
    "class SlopOverError(BaseException):\n",
    "    def __init__(self,number,message):\n",
    "        self.number = number\n",
    "        self.message = message\n",
    "    def __str__(self):\n",
    "        return 'ErrorMsg：{} - {}'.format(self.number,self.message)\n",
    "\n",
    "class Integer:\n",
    "    def verifySlopOver(self,data):\n",
    "        if int(data) > 2**31 -1  or int(data) < -2**31:\n",
    "           raise SlopOverError(data,'越界')    \n",
    "    def input(self):\n",
    "        try:\n",
    "            data = input('请输入数字：').strip()\n",
    "            int(data)\n",
    "            self.verifySlopOver(data)\n",
    "        except ValueError as e:\n",
    "            print(e)\n",
    "            self.input()\n",
    "        except SlopOverError as e:\n",
    "            print(e)\n",
    "            self.input()            \n",
    "        \n",
    "    "
   ]
  },
  {
   "cell_type": "code",
   "execution_count": 23,
   "metadata": {},
   "outputs": [
    {
     "name": "stdout",
     "output_type": "stream",
     "text": [
      "请输入数字：9999999999999999\n",
      "ErrorMsg：9999999999999999 - 越界\n",
      "请输入数字：-222222222222222222\n",
      "ErrorMsg：-222222222222222222 - 越界\n",
      "请输入数字：aaaaaaa\n",
      "invalid literal for int() with base 10: 'aaaaaaa'\n",
      "请输入数字：123\n"
     ]
    }
   ],
   "source": [
    "Integer().input()"
   ]
  },
  {
   "cell_type": "code",
   "execution_count": 17,
   "metadata": {},
   "outputs": [],
   "source": []
  },
  {
   "cell_type": "code",
   "execution_count": null,
   "metadata": {},
   "outputs": [],
   "source": []
  }
 ],
 "metadata": {
  "kernelspec": {
   "display_name": "Python 3",
   "language": "python",
   "name": "python3"
  },
  "language_info": {
   "codemirror_mode": {
    "name": "ipython",
    "version": 3
   },
   "file_extension": ".py",
   "mimetype": "text/x-python",
   "name": "python",
   "nbconvert_exporter": "python",
   "pygments_lexer": "ipython3",
   "version": "3.6.5"
  }
 },
 "nbformat": 4,
 "nbformat_minor": 2
}
