{
 "cells": [
  {
   "cell_type": "markdown",
   "metadata": {},
   "source": [
    "### 学生成绩管理系统\n",
    "\n",
    "- 1. 根据姓名查看学生所有成绩\n",
    "- 2. 查看所有人的某学科成绩\n",
    "- 3. 查看总平均分\n",
    "- 4. 查看某人的某学科成绩\n",
    "- 5. 根据姓名删除学生信息\n"
   ]
  },
  {
   "cell_type": "code",
   "execution_count": 68,
   "metadata": {},
   "outputs": [],
   "source": [
    "import random \n",
    "student_info ={'张三':{'数学':80,'英语':85,'计算机':75},\n",
    "               '李四':{'数学':90,'英语':85,'计算机':95},\n",
    "               '王五':{'数学':60,'英语':90,'计算机':75}}\n",
    "class StudentAdminSystem():\n",
    "    def __init__(self,student_info):\n",
    "        print('Initialize StudentAdminSystem')\n",
    "        self.student_info = student_info     \n",
    "    def inquire_students_score_by_name(self,name):\n",
    "\n",
    "        if name not in self.student_info.keys():\n",
    "            print('%s 没有找到该学生相关信息' %name)\n",
    "        else:\n",
    "            print('学生 %s 所有成绩如下：'%name)\n",
    "            for course,score in self.student_info[name].items():\n",
    "                print(\"课程\\t{}\\t成绩\\t{}\".format(course, score))\n",
    "    def inquire_course_scores(self, course_name):\n",
    "        print('课程 {} 成绩如下:'.format(course_name))\n",
    "        for student, info in self.student_info.items():\n",
    "            for course,score in info.items():\n",
    "                if course == course_name:\n",
    "                    print(\"学生 {} 科目 {} 成绩 {}\".format(student, course, score))\n",
    "    def inquire_avg_score(self):\n",
    "        score_list = [score for student, info in self.student_info.items() \\\n",
    "                        for course, score in info.items()]\n",
    "        if score_list:\n",
    "            return round(sum(score_list)/ len(score_list),2)\n",
    "    def inquire_one_subject_by_name(self,name,course_name):\n",
    "         if name not in self.student_info.keys():\n",
    "            print('%s 没有找到该学生相关信息' %name)\n",
    "         else:\n",
    "            for course,score in self.student_info[name].items():\n",
    "                if course == course_name:\n",
    "                    print(\"学生 {}  课程 {} 成绩 {}\".format(name, course, score))\n",
    "                    return None\n",
    "            print('没有找到该门课程成绩')\n",
    "    def del_student(self,name):\n",
    "        self.student_info.pop(name)\n",
    "        print('已删除学生%s 相关信息' %name)\n",
    "    \n"
   ]
  },
  {
   "cell_type": "code",
   "execution_count": 69,
   "metadata": {},
   "outputs": [
    {
     "name": "stdout",
     "output_type": "stream",
     "text": [
      "initialize StudentAdminSystem\n",
      "学生 张三 所有成绩如下：\n",
      "课程\t数学\t成绩\t80\n",
      "课程\t英语\t成绩\t85\n",
      "课程\t计算机\t成绩\t75\n",
      "==================================================\n",
      "课程 数学 成绩如下:\n",
      "学生 张三 科目 数学 成绩 80\n",
      "学生 李四 科目 数学 成绩 90\n",
      "学生 王五 科目 数学 成绩 60\n",
      "==================================================\n",
      "==================================================\n",
      "学生 李四  课程 英语 成绩 85\n",
      "学生 王五  课程 计算机 成绩 75\n",
      "==================================================\n",
      "已删除学生张三 相关信息\n",
      "张三 没有找到该学生相关信息\n",
      "None\n"
     ]
    }
   ],
   "source": [
    "SAS = StudentAdminSystem(student_info)\n",
    "SAS.inquire_students_score_by_name('张三')\n",
    "print(\"=\"*50)\n",
    "SAS.inquire_course_scores('数学')\n",
    "print(\"=\"*50)\n",
    "SAS.inquire_avg_score()\n",
    "print(\"=\"*50)\n",
    "SAS.inquire_one_subject_by_name('李四','英语')\n",
    "SAS.inquire_one_subject_by_name('王五','计算机')\n",
    "print(\"=\"*50)\n",
    "SAS.del_student('张三')\n",
    "print(SAS.inquire_students_score_by_name('张三'))"
   ]
  },
  {
   "cell_type": "code",
   "execution_count": null,
   "metadata": {},
   "outputs": [],
   "source": []
  },
  {
   "cell_type": "code",
   "execution_count": null,
   "metadata": {},
   "outputs": [],
   "source": []
  }
 ],
 "metadata": {
  "kernelspec": {
   "display_name": "Python 3",
   "language": "python",
   "name": "python3"
  },
  "language_info": {
   "codemirror_mode": {
    "name": "ipython",
    "version": 3
   },
   "file_extension": ".py",
   "mimetype": "text/x-python",
   "name": "python",
   "nbconvert_exporter": "python",
   "pygments_lexer": "ipython3",
   "version": "3.6.5"
  }
 },
 "nbformat": 4,
 "nbformat_minor": 2
}
