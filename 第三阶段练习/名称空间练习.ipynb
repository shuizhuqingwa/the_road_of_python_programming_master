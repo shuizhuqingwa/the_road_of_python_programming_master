{
 "cells": [
  {
   "cell_type": "markdown",
   "metadata": {},
   "source": [
    "### 名称空间练习\n",
    "- 1. 初始化函数的作用是什么,有什么特点  \n",
    "     RE: 创建类的对象，新建一个对象时，自动调用初始化函数\n",
    "- 2. 什么是绑定方法,有什么特点  \n",
    "     RE:类的方法在创建对象会绑定到该实例上\n",
    "- 3. 对象与类的属性查找顺序什么怎么样的  \n",
    "     RE:先查找对象的属性，若没有找到，再查找类属性\n",
    "- 4. 什么是类  什么是对象（复习）  \n",
    "     RE：类是抽象化的汇总，对象是具体化的实现"
   ]
  },
  {
   "attachments": {
    "image.png": {
     "image/png": "[encoded data removed]"
    }
   },
   "cell_type": "markdown",
   "metadata": {},
   "source": [
    "![image.png](attachment:image.png)"
   ]
  },
  {
   "cell_type": "code",
   "execution_count": 40,
   "metadata": {},
   "outputs": [],
   "source": [
    "class KingGlory():\n",
    "    def __init__(self, name, level, health=100,Q_hurt=10,W_hurt=20,E_hurt=30):\n",
    "        self.hero_name = name\n",
    "        self.level = level\n",
    "        self.health = health\n",
    "        self.Q_hurt = Q_hurt\n",
    "        self.W_hurt = W_hurt\n",
    "        self.E_hurt = E_hurt\n",
    "    def use_q_skill(self,other_hero):\n",
    "        print(('{} 对 {} 使用了 {} 技能，造成了{}伤害').format(self.hero_name, other_hero.hero_name,'Q',self.Q_hurt))\n",
    "        other_hero.health -= self.Q_hurt\n",
    "        if int(other_hero.health) <= 0:\n",
    "            print((\"{}受到了{}的攻击，已死亡!!!\").format(other_hero.hero_name,self.hero_name))     \n",
    "    def use_w_skill(self,other_hero):\n",
    "        print(('{} 对 {} 使用了 {} 技能，造成了{}伤害').format(self.hero_name,other_hero.hero_name,'W',self.W_hurt))\n",
    "        other_hero.health -= self.W_hurt\n",
    "        if int(other_hero.health) <=0:\n",
    "            print((\"{}受到了{}的攻击，已死亡!!!\").format(other_hero.hero_name,self.hero_name))     \n",
    "    def use_e_skill(self,other_hero):\n",
    "        print(('{} 对 {} 使用了 {} 技能，造成了{}伤害').format(self.hero_name,other_hero.hero_name,'E',self.E_hurt))\n",
    "        other_hero.health -= self.E_hurt  \n",
    "        if int(other_hero.health) <=0:\n",
    "            print((\"{}受到了{}的攻击，已死亡!!!\").format(other_hero.hero_name,self.hero_name))        "
   ]
  },
  {
   "cell_type": "code",
   "execution_count": 45,
   "metadata": {},
   "outputs": [],
   "source": [
    "zgl = KingGlory('诸葛亮',20)\n",
    "zy = KingGlory('周瑜',20)\n",
    "cc = KingGlory('曹操',20)\n"
   ]
  },
  {
   "cell_type": "code",
   "execution_count": 46,
   "metadata": {},
   "outputs": [
    {
     "name": "stdout",
     "output_type": "stream",
     "text": [
      "诸葛亮 对 周瑜 使用了 Q 技能，造成了10伤害\n",
      "诸葛亮 对 周瑜 使用了 W 技能，造成了20伤害\n",
      "诸葛亮 对 周瑜 使用了 E 技能，造成了30伤害\n",
      "诸葛亮 对 周瑜 使用了 E 技能，造成了30伤害\n",
      "诸葛亮 对 周瑜 使用了 E 技能，造成了30伤害\n",
      "周瑜受到了诸葛亮的攻击，已死亡!!!\n"
     ]
    }
   ],
   "source": [
    "zgl.use_q_skill(zy)\n",
    "zgl.use_w_skill(zy)\n",
    "zgl.use_e_skill(zy)\n",
    "zgl.use_e_skill(zy)\n",
    "zgl.use_e_skill(zy)"
   ]
  },
  {
   "cell_type": "code",
   "execution_count": 47,
   "metadata": {},
   "outputs": [
    {
     "name": "stdout",
     "output_type": "stream",
     "text": [
      "曹操 对 诸葛亮 使用了 Q 技能，造成了10伤害\n",
      "诸葛亮 对 曹操 使用了 E 技能，造成了30伤害\n",
      "诸葛亮 对 曹操 使用了 E 技能，造成了30伤害\n",
      "曹操 对 诸葛亮 使用了 E 技能，造成了30伤害\n",
      "曹操 对 诸葛亮 使用了 E 技能，造成了30伤害\n"
     ]
    }
   ],
   "source": [
    "cc.use_q_skill(zgl)\n",
    "zgl.use_e_skill(cc)\n",
    "zgl.use_e_skill(cc)\n",
    "cc.use_e_skill(zgl)\n",
    "cc.use_e_skill(zgl)"
   ]
  },
  {
   "cell_type": "code",
   "execution_count": 48,
   "metadata": {},
   "outputs": [
    {
     "name": "stdout",
     "output_type": "stream",
     "text": [
      "曹操 对 诸葛亮 使用了 E 技能，造成了30伤害\n",
      "诸葛亮受到了曹操的攻击，已死亡!!!\n"
     ]
    }
   ],
   "source": [
    "cc.use_e_skill(zgl)"
   ]
  },
  {
   "cell_type": "code",
   "execution_count": null,
   "metadata": {},
   "outputs": [],
   "source": []
  }
 ],
 "metadata": {
  "kernelspec": {
   "display_name": "Python 3",
   "language": "python",
   "name": "python3"
  },
  "language_info": {
   "codemirror_mode": {
    "name": "ipython",
    "version": 3
   },
   "file_extension": ".py",
   "mimetype": "text/x-python",
   "name": "python",
   "nbconvert_exporter": "python",
   "pygments_lexer": "ipython3",
   "version": "3.6.5"
  }
 },
 "nbformat": 4,
 "nbformat_minor": 2
}
