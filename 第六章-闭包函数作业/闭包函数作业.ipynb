{
 "cells": [
  {
   "cell_type": "markdown",
   "metadata": {},
   "source": [
    "\n",
    "- 1. 编写装饰器，为多个函数加上认证的功能（用户的账号密码来源于文件）。要求：登录成功一次，后续的函数都无需再输入用户名和密码；\n",
    "     注意：从文件中读出字符串形式的字典，可以用以下方式把字典字符串转化成字符串\n",
    "     eval('{'aaa':'bbb','ccc':'dddd'}')"
   ]
  },
  {
   "cell_type": "code",
   "execution_count": 4,
   "metadata": {},
   "outputs": [
    {
     "name": "stdout",
     "output_type": "stream",
     "text": [
      " 未登录用户 alex 请输入密码123\n",
      "{'alex': 123, 'jack': 6666}\n",
      "登陆成功\n",
      "from f2\n",
      "已登录用户\n",
      "from f3\n",
      "已登录用户\n",
      "from f4\n"
     ]
    }
   ],
   "source": [
    "current_dict ={}\n",
    "\n",
    "file_dict={}\n",
    "\n",
    "def load_file(path):\n",
    "    with open(path,'r') as f:\n",
    "        data= f.readlines()\n",
    "    return data    \n",
    "def auth(func):\n",
    "    def wrapper(*args,**kwargs):\n",
    "        name = ''.join(list(args))\n",
    "        if current_dict.get(name):\n",
    "            print('已登录用户')\n",
    "            return func(*args,**kwargs)\n",
    "        else:\n",
    "            password = input(\" 未登录用户 \" + name + \" 请输入密码\").strip()\n",
    "            if name not in file_dict.keys():\n",
    "                print('该用户未注册')\n",
    "            elif str(file_dict[name]) == password:\n",
    "                print('登陆成功')\n",
    "                current_dict[name] = 1\n",
    "                return func(*args,**kwargs)\n",
    "            else:\n",
    "                print('密码错误')\n",
    "    return wrapper\n",
    "\n",
    "@auth\n",
    "def f2(name):\n",
    "    print('from f2')\n",
    "\n",
    "@auth\n",
    "def f3(name):\n",
    "    print('from f3')\n",
    "\n",
    "@auth\n",
    "def f4(name):\n",
    "    print('from f4')\n",
    "\n",
    "file_dict = load_file('./user_info.txt')\n",
    "file_dict = eval(''.join(file_dict))\n",
    "\n",
    "\n",
    "f2('alex')\n",
    "\n",
    "f3('alex')\n",
    "\n",
    "f4('alex')\n",
    "            "
   ]
  },
  {
   "cell_type": "markdown",
   "metadata": {},
   "source": [
    "- 2. 编写装饰器，为多个函数加上认证功能，要求登录成功一次，在超时时间内无需重复登录，超过了超时时间，则必须重新登录"
   ]
  },
  {
   "cell_type": "code",
   "execution_count": 7,
   "metadata": {},
   "outputs": [
    {
     "name": "stdout",
     "output_type": "stream",
     "text": [
      " 未登录用户 alex 请输入密码123\n",
      "登陆成功\n",
      "from f2\n",
      "系统超时，请重新登陆\n",
      " 未登录用户 alex 请输入密码123\n",
      "登陆成功\n",
      "from f3\n",
      "系统超时，请重新登陆\n",
      " 未登录用户 alex 请输入密码123\n",
      "登陆成功\n",
      "from f4\n"
     ]
    }
   ],
   "source": [
    "\n",
    "import time\n",
    "\n",
    "current_dict ={}\n",
    "\n",
    "file_dict={}\n",
    "\n",
    "waiting_time = 5\n",
    "\n",
    "def load_file(path):\n",
    "    with open(path,'r') as f:\n",
    "        data= f.readlines()\n",
    "    return data    \n",
    "def auth(func):\n",
    "    def wrapper(*args,**kwargs):\n",
    "        name = ''.join(list(args))\n",
    "        if current_dict.get(name):\n",
    "            print('已登录用户')\n",
    "            return func(*args,**kwargs)\n",
    "        else:\n",
    "            password = input(\" 未登录用户 \" + name + \" 请输入密码\").strip()\n",
    "            if name not in file_dict.keys():\n",
    "                print('该用户未注册')\n",
    "            elif str(file_dict[name]) == password:\n",
    "                print('登陆成功')\n",
    "                current_dict[name] = 1\n",
    "                return func(*args,**kwargs)\n",
    "            else:\n",
    "                print('密码错误')\n",
    "    return wrapper\n",
    "\n",
    "def timer(func):\n",
    "    def wrapper(*args,**kwargs):\n",
    "        start_time = time.time()\n",
    "        if start_time - init_time      > waiting_time:\n",
    "            print(\"系统超时，请重新登陆\")\n",
    "            name = ''.join(list(args))\n",
    "            current_dict.pop(name)\n",
    "            func(*args,**kwargs)\n",
    "        else:\n",
    "            return func(*args,**kwargs)\n",
    "    return wrapper\n",
    "@timer\n",
    "@auth\n",
    "def f2(name):\n",
    "    time.sleep(3)\n",
    "    print('from f2')\n",
    "    \n",
    "@timer\n",
    "@auth\n",
    "def f3(name):\n",
    "    time.sleep(1)\n",
    "    print('from f3')\n",
    "    \n",
    "@timer\n",
    "@auth\n",
    "def f4(name):\n",
    "    time.sleep(1)\n",
    "    print('from f4')\n",
    "\n",
    "file_dict = load_file('./user_info.txt')\n",
    "file_dict = eval(''.join(file_dict))\n",
    "\n",
    "init_time = time.time()\n",
    "\n",
    "f2('alex')\n",
    "\n",
    "f3('alex')\n",
    "\n",
    "f4('alex')"
   ]
  },
  {
   "cell_type": "markdown",
   "metadata": {},
   "source": [
    "- 3. 编写日志装饰器，实现功能：一旦某函数执行，则将函数执行时间写入到日志文件中，日志文件路径可以指定。\n",
    "     注意：时间格式的获取"
   ]
  },
  {
   "cell_type": "code",
   "execution_count": 31,
   "metadata": {},
   "outputs": [
    {
     "name": "stdout",
     "output_type": "stream",
     "text": [
      "from f2\n",
      "from f3\n",
      "from f4\n"
     ]
    }
   ],
   "source": [
    "import time\n",
    "import datetime\n",
    "\n",
    "def log(func):\n",
    "    \n",
    "    def write_log(func,*args,**kwargs): \n",
    "        with open('./log_file','a+') as f:\n",
    "            f.write(func.__name__+'\\t'+begin+'\\t'+stop+'\\t'+elapse+'\\n')\n",
    "            f.flush()\n",
    "    def wrapper(*args,**kwargs):\n",
    "        start_time = datetime.datetime.now()\n",
    "        res = func(*args,**kwargs)\n",
    "        end_time = datetime.datetime.now()\n",
    "        consume_time = end_time - start_time\n",
    "        begin =str(start_time.strftime('%Y-%m-%d %H:%M:%S'))\n",
    "        stop=str(end_time.strftime('%Y-%m-%d %H:%M:%S'))\n",
    "        elapse = str(consume_time)\n",
    "        write_log(func)\n",
    "    return wrapper\n",
    "@log\n",
    "def f2():\n",
    "    time.sleep(3)\n",
    "    print('from f2')\n",
    "    \n",
    "@log\n",
    "def f3():\n",
    "    \n",
    "    time.sleep(1)\n",
    "    print('from f3')\n",
    "    \n",
    "@log\n",
    "def f4():\n",
    "    time.sleep(1)\n",
    "    print('from f4')\n",
    "\n",
    "f2()\n",
    "\n",
    "f3()\n",
    "\n",
    "f4()"
   ]
  }
 ],
 "metadata": {
  "kernelspec": {
   "display_name": "Python 3",
   "language": "python",
   "name": "python3"
  },
  "language_info": {
   "codemirror_mode": {
    "name": "ipython",
    "version": 3
   },
   "file_extension": ".py",
   "mimetype": "text/x-python",
   "name": "python",
   "nbconvert_exporter": "python",
   "pygments_lexer": "ipython3",
   "version": "3.6.5"
  }
 },
 "nbformat": 4,
 "nbformat_minor": 2
}
